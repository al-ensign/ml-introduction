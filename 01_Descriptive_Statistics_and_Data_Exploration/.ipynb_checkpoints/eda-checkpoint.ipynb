{
 "cells": [
  {
   "cell_type": "markdown",
   "id": "2bf2a535",
   "metadata": {},
   "source": [
    "# Descriptive Statistics and Data Exploration of Titanic Dataset"
   ]
  },
  {
   "cell_type": "markdown",
   "id": "1abfad68",
   "metadata": {},
   "source": [
    "## Import Libraries and Datasets"
   ]
  },
  {
   "cell_type": "code",
   "execution_count": 1,
   "id": "a5a25499",
   "metadata": {},
   "outputs": [],
   "source": [
    "#Data Analysis\n",
    "import numpy as np\n",
    "import pandas as pd\n",
    "#Data Visualisation\n",
    "import matplotlib.pyplot as plt\n",
    "import seaborn as sns"
   ]
  },
  {
   "cell_type": "code",
   "execution_count": 2,
   "id": "cce56f61",
   "metadata": {},
   "outputs": [],
   "source": [
    "#Import dataset\n",
    "train = pd.read_csv(\"train.csv\")"
   ]
  },
  {
   "cell_type": "markdown",
   "id": "d07912a0",
   "metadata": {},
   "source": [
    "## Data Preparation and Quality Assessment"
   ]
  },
  {
   "cell_type": "code",
   "execution_count": 3,
   "id": "6b981d68",
   "metadata": {},
   "outputs": [
    {
     "name": "stdout",
     "output_type": "stream",
     "text": [
      "Train shape :  (100000, 12)\n"
     ]
    }
   ],
   "source": [
    "# Inspect shape of dataset\n",
    "print(\"Train shape : \", train.shape)"
   ]
  },
  {
   "cell_type": "code",
   "execution_count": 4,
   "id": "e443ca82",
   "metadata": {},
   "outputs": [
    {
     "data": {
      "text/html": [
       "<div>\n",
       "<style scoped>\n",
       "    .dataframe tbody tr th:only-of-type {\n",
       "        vertical-align: middle;\n",
       "    }\n",
       "\n",
       "    .dataframe tbody tr th {\n",
       "        vertical-align: top;\n",
       "    }\n",
       "\n",
       "    .dataframe thead th {\n",
       "        text-align: right;\n",
       "    }\n",
       "</style>\n",
       "<table border=\"1\" class=\"dataframe\">\n",
       "  <thead>\n",
       "    <tr style=\"text-align: right;\">\n",
       "      <th></th>\n",
       "      <th>PassengerId</th>\n",
       "      <th>Survived</th>\n",
       "      <th>Pclass</th>\n",
       "      <th>Name</th>\n",
       "      <th>Sex</th>\n",
       "      <th>Age</th>\n",
       "      <th>SibSp</th>\n",
       "      <th>Parch</th>\n",
       "      <th>Ticket</th>\n",
       "      <th>Fare</th>\n",
       "      <th>Cabin</th>\n",
       "      <th>Embarked</th>\n",
       "    </tr>\n",
       "  </thead>\n",
       "  <tbody>\n",
       "    <tr>\n",
       "      <th>0</th>\n",
       "      <td>0</td>\n",
       "      <td>1</td>\n",
       "      <td>1</td>\n",
       "      <td>Oconnor, Frankie</td>\n",
       "      <td>male</td>\n",
       "      <td>NaN</td>\n",
       "      <td>2</td>\n",
       "      <td>0</td>\n",
       "      <td>209245</td>\n",
       "      <td>27.14</td>\n",
       "      <td>C12239</td>\n",
       "      <td>S</td>\n",
       "    </tr>\n",
       "    <tr>\n",
       "      <th>1</th>\n",
       "      <td>1</td>\n",
       "      <td>0</td>\n",
       "      <td>3</td>\n",
       "      <td>Bryan, Drew</td>\n",
       "      <td>male</td>\n",
       "      <td>NaN</td>\n",
       "      <td>0</td>\n",
       "      <td>0</td>\n",
       "      <td>27323</td>\n",
       "      <td>13.35</td>\n",
       "      <td>NaN</td>\n",
       "      <td>S</td>\n",
       "    </tr>\n",
       "    <tr>\n",
       "      <th>2</th>\n",
       "      <td>2</td>\n",
       "      <td>0</td>\n",
       "      <td>3</td>\n",
       "      <td>Owens, Kenneth</td>\n",
       "      <td>male</td>\n",
       "      <td>0.33</td>\n",
       "      <td>1</td>\n",
       "      <td>2</td>\n",
       "      <td>CA 457703</td>\n",
       "      <td>71.29</td>\n",
       "      <td>NaN</td>\n",
       "      <td>S</td>\n",
       "    </tr>\n",
       "    <tr>\n",
       "      <th>3</th>\n",
       "      <td>3</td>\n",
       "      <td>0</td>\n",
       "      <td>3</td>\n",
       "      <td>Kramer, James</td>\n",
       "      <td>male</td>\n",
       "      <td>19.00</td>\n",
       "      <td>0</td>\n",
       "      <td>0</td>\n",
       "      <td>A. 10866</td>\n",
       "      <td>13.04</td>\n",
       "      <td>NaN</td>\n",
       "      <td>S</td>\n",
       "    </tr>\n",
       "    <tr>\n",
       "      <th>4</th>\n",
       "      <td>4</td>\n",
       "      <td>1</td>\n",
       "      <td>3</td>\n",
       "      <td>Bond, Michael</td>\n",
       "      <td>male</td>\n",
       "      <td>25.00</td>\n",
       "      <td>0</td>\n",
       "      <td>0</td>\n",
       "      <td>427635</td>\n",
       "      <td>7.76</td>\n",
       "      <td>NaN</td>\n",
       "      <td>S</td>\n",
       "    </tr>\n",
       "  </tbody>\n",
       "</table>\n",
       "</div>"
      ],
      "text/plain": [
       "   PassengerId  Survived  Pclass              Name   Sex    Age  SibSp  Parch  \\\n",
       "0            0         1       1  Oconnor, Frankie  male    NaN      2      0   \n",
       "1            1         0       3       Bryan, Drew  male    NaN      0      0   \n",
       "2            2         0       3    Owens, Kenneth  male   0.33      1      2   \n",
       "3            3         0       3     Kramer, James  male  19.00      0      0   \n",
       "4            4         1       3     Bond, Michael  male  25.00      0      0   \n",
       "\n",
       "      Ticket   Fare   Cabin Embarked  \n",
       "0     209245  27.14  C12239        S  \n",
       "1      27323  13.35     NaN        S  \n",
       "2  CA 457703  71.29     NaN        S  \n",
       "3   A. 10866  13.04     NaN        S  \n",
       "4     427635   7.76     NaN        S  "
      ]
     },
     "execution_count": 4,
     "metadata": {},
     "output_type": "execute_result"
    }
   ],
   "source": [
    "train.head(5)"
   ]
  },
  {
   "cell_type": "code",
   "execution_count": 5,
   "id": "10ad0dae",
   "metadata": {},
   "outputs": [
    {
     "name": "stdout",
     "output_type": "stream",
     "text": [
      "<class 'pandas.core.frame.DataFrame'>\n",
      "RangeIndex: 100000 entries, 0 to 99999\n",
      "Data columns (total 12 columns):\n",
      " #   Column       Non-Null Count   Dtype  \n",
      "---  ------       --------------   -----  \n",
      " 0   PassengerId  100000 non-null  int64  \n",
      " 1   Survived     100000 non-null  int64  \n",
      " 2   Pclass       100000 non-null  int64  \n",
      " 3   Name         100000 non-null  object \n",
      " 4   Sex          100000 non-null  object \n",
      " 5   Age          96708 non-null   float64\n",
      " 6   SibSp        100000 non-null  int64  \n",
      " 7   Parch        100000 non-null  int64  \n",
      " 8   Ticket       95377 non-null   object \n",
      " 9   Fare         99866 non-null   float64\n",
      " 10  Cabin        32134 non-null   object \n",
      " 11  Embarked     99750 non-null   object \n",
      "dtypes: float64(2), int64(5), object(5)\n",
      "memory usage: 9.2+ MB\n"
     ]
    }
   ],
   "source": [
    "train.info()"
   ]
  },
  {
   "cell_type": "markdown",
   "id": "4156c562",
   "metadata": {},
   "source": [
    "We can see that there are missing values in columns Age, Ticket, Fare, Cabin, and Embarked. Passeneger ID is represented by integer. Categorial data of survivalship and passenger class is in integer data type as well. Age and Fare are floats. Name, Sex, Ticket, Cabin and Embarked columns contain objects."
   ]
  },
  {
   "cell_type": "code",
   "execution_count": 6,
   "id": "6059d0a7",
   "metadata": {},
   "outputs": [
    {
     "data": {
      "text/html": [
       "<div>\n",
       "<style scoped>\n",
       "    .dataframe tbody tr th:only-of-type {\n",
       "        vertical-align: middle;\n",
       "    }\n",
       "\n",
       "    .dataframe tbody tr th {\n",
       "        vertical-align: top;\n",
       "    }\n",
       "\n",
       "    .dataframe thead th {\n",
       "        text-align: right;\n",
       "    }\n",
       "</style>\n",
       "<table border=\"1\" class=\"dataframe\">\n",
       "  <thead>\n",
       "    <tr style=\"text-align: right;\">\n",
       "      <th></th>\n",
       "      <th>PassengerId</th>\n",
       "      <th>Survived</th>\n",
       "      <th>Pclass</th>\n",
       "      <th>Age</th>\n",
       "      <th>SibSp</th>\n",
       "      <th>Parch</th>\n",
       "      <th>Fare</th>\n",
       "    </tr>\n",
       "  </thead>\n",
       "  <tbody>\n",
       "    <tr>\n",
       "      <th>count</th>\n",
       "      <td>100000.000000</td>\n",
       "      <td>100000.000000</td>\n",
       "      <td>100000.000000</td>\n",
       "      <td>96708.000000</td>\n",
       "      <td>100000.000000</td>\n",
       "      <td>100000.000000</td>\n",
       "      <td>99866.00000</td>\n",
       "    </tr>\n",
       "    <tr>\n",
       "      <th>mean</th>\n",
       "      <td>49999.500000</td>\n",
       "      <td>0.427740</td>\n",
       "      <td>2.106910</td>\n",
       "      <td>38.355472</td>\n",
       "      <td>0.397690</td>\n",
       "      <td>0.454560</td>\n",
       "      <td>43.92933</td>\n",
       "    </tr>\n",
       "    <tr>\n",
       "      <th>std</th>\n",
       "      <td>28867.657797</td>\n",
       "      <td>0.494753</td>\n",
       "      <td>0.837727</td>\n",
       "      <td>18.313556</td>\n",
       "      <td>0.862566</td>\n",
       "      <td>0.950076</td>\n",
       "      <td>69.58882</td>\n",
       "    </tr>\n",
       "    <tr>\n",
       "      <th>min</th>\n",
       "      <td>0.000000</td>\n",
       "      <td>0.000000</td>\n",
       "      <td>1.000000</td>\n",
       "      <td>0.080000</td>\n",
       "      <td>0.000000</td>\n",
       "      <td>0.000000</td>\n",
       "      <td>0.68000</td>\n",
       "    </tr>\n",
       "    <tr>\n",
       "      <th>25%</th>\n",
       "      <td>24999.750000</td>\n",
       "      <td>0.000000</td>\n",
       "      <td>1.000000</td>\n",
       "      <td>25.000000</td>\n",
       "      <td>0.000000</td>\n",
       "      <td>0.000000</td>\n",
       "      <td>10.04000</td>\n",
       "    </tr>\n",
       "    <tr>\n",
       "      <th>50%</th>\n",
       "      <td>49999.500000</td>\n",
       "      <td>0.000000</td>\n",
       "      <td>2.000000</td>\n",
       "      <td>39.000000</td>\n",
       "      <td>0.000000</td>\n",
       "      <td>0.000000</td>\n",
       "      <td>24.46000</td>\n",
       "    </tr>\n",
       "    <tr>\n",
       "      <th>75%</th>\n",
       "      <td>74999.250000</td>\n",
       "      <td>1.000000</td>\n",
       "      <td>3.000000</td>\n",
       "      <td>53.000000</td>\n",
       "      <td>1.000000</td>\n",
       "      <td>1.000000</td>\n",
       "      <td>33.50000</td>\n",
       "    </tr>\n",
       "    <tr>\n",
       "      <th>max</th>\n",
       "      <td>99999.000000</td>\n",
       "      <td>1.000000</td>\n",
       "      <td>3.000000</td>\n",
       "      <td>87.000000</td>\n",
       "      <td>8.000000</td>\n",
       "      <td>9.000000</td>\n",
       "      <td>744.66000</td>\n",
       "    </tr>\n",
       "  </tbody>\n",
       "</table>\n",
       "</div>"
      ],
      "text/plain": [
       "         PassengerId       Survived         Pclass           Age  \\\n",
       "count  100000.000000  100000.000000  100000.000000  96708.000000   \n",
       "mean    49999.500000       0.427740       2.106910     38.355472   \n",
       "std     28867.657797       0.494753       0.837727     18.313556   \n",
       "min         0.000000       0.000000       1.000000      0.080000   \n",
       "25%     24999.750000       0.000000       1.000000     25.000000   \n",
       "50%     49999.500000       0.000000       2.000000     39.000000   \n",
       "75%     74999.250000       1.000000       3.000000     53.000000   \n",
       "max     99999.000000       1.000000       3.000000     87.000000   \n",
       "\n",
       "               SibSp          Parch         Fare  \n",
       "count  100000.000000  100000.000000  99866.00000  \n",
       "mean        0.397690       0.454560     43.92933  \n",
       "std         0.862566       0.950076     69.58882  \n",
       "min         0.000000       0.000000      0.68000  \n",
       "25%         0.000000       0.000000     10.04000  \n",
       "50%         0.000000       0.000000     24.46000  \n",
       "75%         1.000000       1.000000     33.50000  \n",
       "max         8.000000       9.000000    744.66000  "
      ]
     },
     "execution_count": 6,
     "metadata": {},
     "output_type": "execute_result"
    }
   ],
   "source": [
    "train.describe()"
   ]
  },
  {
   "cell_type": "code",
   "execution_count": 7,
   "id": "dddf0908",
   "metadata": {},
   "outputs": [
    {
     "data": {
      "text/plain": [
       "Cabin          67866\n",
       "Ticket          4623\n",
       "Age             3292\n",
       "Embarked         250\n",
       "Fare             134\n",
       "PassengerId        0\n",
       "Survived           0\n",
       "Pclass             0\n",
       "Name               0\n",
       "Sex                0\n",
       "SibSp              0\n",
       "Parch              0\n",
       "dtype: int64"
      ]
     },
     "execution_count": 7,
     "metadata": {},
     "output_type": "execute_result"
    }
   ],
   "source": [
    "#Check for missing values\n",
    "train.isnull().sum().sort_values(ascending=False)"
   ]
  },
  {
   "cell_type": "code",
   "execution_count": 8,
   "id": "c71bfec3",
   "metadata": {},
   "outputs": [
    {
     "data": {
      "text/plain": [
       "PassengerId     0.000\n",
       "Survived        0.000\n",
       "Pclass          0.000\n",
       "Name            0.000\n",
       "Sex             0.000\n",
       "Age             3.292\n",
       "SibSp           0.000\n",
       "Parch           0.000\n",
       "Ticket          4.623\n",
       "Fare            0.134\n",
       "Cabin          67.866\n",
       "Embarked        0.250\n",
       "dtype: float64"
      ]
     },
     "execution_count": 8,
     "metadata": {},
     "output_type": "execute_result"
    }
   ],
   "source": [
    "null = train.isnull().sum()/len(train)*100\n",
    "null"
   ]
  },
  {
   "cell_type": "code",
   "execution_count": 42,
   "id": "8befb4d8",
   "metadata": {},
   "outputs": [
    {
     "data": {
      "image/png": "[encoded data removed]",
      "text/plain": [
       "<Figure size 648x360 with 1 Axes>"
      ]
     },
     "metadata": {
      "needs_background": "light"
     },
     "output_type": "display_data"
    }
   ],
   "source": [
    "plt.figure(figsize = (9,5))\n",
    "sns.barplot(x = null.values, y = list(null.index), color='#265484')\n",
    "plt.xlabel(\"% Missing values\")\n",
    "plt.ylabel(\"Columns\")\n",
    "plt.title(\"Missing values in Train Dataset\")\n",
    "plt.show()"
   ]
  },
  {
   "cell_type": "code",
   "execution_count": 10,
   "id": "4420d860",
   "metadata": {},
   "outputs": [
    {
     "data": {
      "text/plain": [
       "0    C12239\n",
       "1       NaN\n",
       "2       NaN\n",
       "3       NaN\n",
       "4       NaN\n",
       "Name: Cabin, dtype: object"
      ]
     },
     "execution_count": 10,
     "metadata": {},
     "output_type": "execute_result"
    }
   ],
   "source": [
    "train.Cabin.head()"
   ]
  },
  {
   "cell_type": "markdown",
   "id": "5c048bed",
   "metadata": {},
   "source": [
    "Cabin column contains almost 68% of null values. We will fill in them with \"None\" as data type is \"Object\".\n",
    "Similarly we will treat Ticket and Embarked columns."
   ]
  },
  {
   "cell_type": "code",
   "execution_count": 11,
   "id": "6a4a24a7",
   "metadata": {},
   "outputs": [],
   "source": [
    "train[\"Cabin\"] = train[\"Cabin\"].fillna(\"None\")\n",
    "train[\"Ticket\"] = train[\"Ticket\"].fillna(\"None\")\n",
    "train[\"Embarked\"] = train[\"Embarked\"].fillna(\"None\")"
   ]
  },
  {
   "cell_type": "code",
   "execution_count": 12,
   "id": "2ebd6927",
   "metadata": {},
   "outputs": [
    {
     "data": {
      "text/plain": [
       "Age            3292\n",
       "Fare            134\n",
       "PassengerId       0\n",
       "Survived          0\n",
       "Pclass            0\n",
       "Name              0\n",
       "Sex               0\n",
       "SibSp             0\n",
       "Parch             0\n",
       "Ticket            0\n",
       "Cabin             0\n",
       "Embarked          0\n",
       "dtype: int64"
      ]
     },
     "execution_count": 12,
     "metadata": {},
     "output_type": "execute_result"
    }
   ],
   "source": [
    "train.isnull().sum().sort_values(ascending=False)"
   ]
  },
  {
   "cell_type": "markdown",
   "id": "d87ebdc0",
   "metadata": {},
   "source": [
    "Let's look at Age distribution before deciding how to treat null values as Age is one of the most important attributes of survival."
   ]
  },
  {
   "cell_type": "code",
   "execution_count": 13,
   "id": "c825ef8b",
   "metadata": {},
   "outputs": [
    {
     "data": {
      "image/png": "[encoded data removed]",
      "text/plain": [
       "<Figure size 432x288 with 1 Axes>"
      ]
     },
     "metadata": {
      "needs_background": "light"
     },
     "output_type": "display_data"
    }
   ],
   "source": [
    "sns.histplot(data = train['Age'],bins=20,kde=True, color='#265484',element=\"step\", alpha=0.2)\n",
    "plt.title('Distribution of Age')\n",
    "plt.ylabel('Number of Passengers')\n",
    "plt.show()"
   ]
  },
  {
   "cell_type": "code",
   "execution_count": 14,
   "id": "1c58b1e1",
   "metadata": {},
   "outputs": [
    {
     "data": {
      "image/png": "[encoded data removed]",
      "text/plain": [
       "<Figure size 432x288 with 1 Axes>"
      ]
     },
     "metadata": {
      "needs_background": "light"
     },
     "output_type": "display_data"
    }
   ],
   "source": [
    "sns.boxplot(x = train['Age'],color='#265484')\n",
    "plt.show()"
   ]
  },
  {
   "cell_type": "markdown",
   "id": "5ac95531",
   "metadata": {},
   "source": [
    "Age distribution is left skewed to some extend so we will use median to fill in the missing values."
   ]
  },
  {
   "cell_type": "code",
   "execution_count": 20,
   "id": "888788cb",
   "metadata": {},
   "outputs": [
    {
     "data": {
      "text/plain": [
       "Fare           134\n",
       "PassengerId      0\n",
       "Survived         0\n",
       "Pclass           0\n",
       "Name             0\n",
       "Sex              0\n",
       "Age              0\n",
       "SibSp            0\n",
       "Parch            0\n",
       "Ticket           0\n",
       "Cabin            0\n",
       "Embarked         0\n",
       "dtype: int64"
      ]
     },
     "execution_count": 20,
     "metadata": {},
     "output_type": "execute_result"
    }
   ],
   "source": [
    "median_age = train[\"Age\"].median()\n",
    "train[\"Age\"] = train[\"Age\"].fillna(median_age)\n",
    "train.isnull().sum().sort_values(ascending=False)"
   ]
  },
  {
   "cell_type": "code",
   "execution_count": 22,
   "id": "4b99dd1f",
   "metadata": {},
   "outputs": [
    {
     "data": {
      "text/plain": [
       "PassengerId    0\n",
       "Survived       0\n",
       "Pclass         0\n",
       "Name           0\n",
       "Sex            0\n",
       "Age            0\n",
       "SibSp          0\n",
       "Parch          0\n",
       "Ticket         0\n",
       "Fare           0\n",
       "Cabin          0\n",
       "Embarked       0\n",
       "dtype: int64"
      ]
     },
     "execution_count": 22,
     "metadata": {},
     "output_type": "execute_result"
    }
   ],
   "source": [
    "#Drop remaining missing values as their share is insignificant\n",
    "train = train.dropna()\n",
    "train.isnull().sum().sort_values(ascending=False)"
   ]
  },
  {
   "cell_type": "code",
   "execution_count": 23,
   "id": "20b322ef",
   "metadata": {},
   "outputs": [
    {
     "name": "stdout",
     "output_type": "stream",
     "text": [
      "False    87134\n",
      "True     12732\n",
      "dtype: int64\n",
      "False    99866\n",
      "dtype: int64\n"
     ]
    }
   ],
   "source": [
    "#Check duplicates in passenger names and ID\n",
    "duplicates_name = train.duplicated(subset=\"Name\", keep=False)\n",
    "print(duplicates_name.value_counts())\n",
    "duplicates_id = train.duplicated(subset=\"PassengerId\", keep=False)\n",
    "print(duplicates_id.value_counts())\n",
    "#There are people with identical names but their IDs are unique => no duplicates"
   ]
  },
  {
   "cell_type": "code",
   "execution_count": 24,
   "id": "ddfce899",
   "metadata": {},
   "outputs": [
    {
     "name": "stdout",
     "output_type": "stream",
     "text": [
      "[1 0]\n",
      "['male' 'female']\n",
      "[1 3 2]\n",
      "['S' 'C' 'Q' 'None']\n"
     ]
    }
   ],
   "source": [
    "#Check consistency in categorical columns\n",
    "print(train[\"Survived\"].unique())\n",
    "print(train[\"Sex\"].unique())\n",
    "print(train[\"Pclass\"].unique())\n",
    "print(train[\"Embarked\"].unique())"
   ]
  },
  {
   "cell_type": "markdown",
   "id": "e0c41862",
   "metadata": {},
   "source": [
    "There are no duplicates and categorial data is consistent."
   ]
  },
  {
   "cell_type": "markdown",
   "id": "5408eca5",
   "metadata": {},
   "source": [
    "## Exploratory Analysis and Visualisation"
   ]
  },
  {
   "cell_type": "code",
   "execution_count": 109,
   "id": "e712e2c8",
   "metadata": {},
   "outputs": [
    {
     "data": {
      "image/png": "[encoded data removed]",
      "text/plain": [
       "<Figure size 648x360 with 1 Axes>"
      ]
     },
     "metadata": {},
     "output_type": "display_data"
    }
   ],
   "source": [
    "#Passengers by sex\n",
    "plt.figure(figsize=(9,5))\n",
    "colors = [\"#265484\",\"#007ba6\",\"#00a2af\",\"#00c59f\",\"#8fe383\",\"#f9f871\"]\n",
    "sns.set_palette(sns.color_palette(colors))\n",
    "data = train[\"Sex\"].value_counts()\n",
    "plt.pie(data,labels = [\"Male\",\"Female\"],autopct='%.1f%%',)\n",
    "circle = plt.Circle( (0,0), 0.4, color='white')\n",
    "p=plt.gcf()\n",
    "p.gca().add_artist(circle)\n",
    "plt.legend()\n",
    "plt.show()"
   ]
  },
  {
   "cell_type": "markdown",
   "id": "650999c4",
   "metadata": {},
   "source": [
    "Almost 60% of the Titanic passenegers were men."
   ]
  },
  {
   "cell_type": "code",
   "execution_count": 130,
   "id": "43061deb",
   "metadata": {},
   "outputs": [
    {
     "data": {
      "image/png": "[encoded data removed]",
      "text/plain": [
       "<Figure size 648x360 with 1 Axes>"
      ]
     },
     "metadata": {
      "needs_background": "light"
     },
     "output_type": "display_data"
    }
   ],
   "source": [
    "#Passengers by Port of Embarkation\n",
    "plt.figure(figsize=(9,5))\n",
    "colors = [\"#265484\",\"#007ba6\",\"#00a2af\",\"#00c59f\",\"#8fe383\",\"#f9f871\"]\n",
    "sns.set_palette(sns.color_palette(colors))\n",
    "sns.countplot(x=\"Embarked\",data=train)\n",
    "plt.ylabel(\"Number of passengers\")\n",
    "plt.title(\"Passengers by Port of Embarkation\")\n",
    "plt.show()"
   ]
  },
  {
   "cell_type": "markdown",
   "id": "04fa90f8",
   "metadata": {},
   "source": [
    "Southampton Port had the highest number of passengers."
   ]
  },
  {
   "cell_type": "code",
   "execution_count": 131,
   "id": "dba93004",
   "metadata": {},
   "outputs": [
    {
     "data": {
      "image/png": "[encoded data removed]",
      "text/plain": [
       "<Figure size 648x360 with 1 Axes>"
      ]
     },
     "metadata": {
      "needs_background": "light"
     },
     "output_type": "display_data"
    }
   ],
   "source": [
    "# No of Survived and Dead\n",
    "plt.figure(figsize=(9,5))\n",
    "colors = [\"#265484\",\"#007ba6\",\"#00a2af\",\"#00c59f\",\"#8fe383\",\"#f9f871\"]\n",
    "sns.set_palette(sns.color_palette(colors))\n",
    "ax = sns.countplot(x=\"Survived\", data=train)\n",
    "plt.xlabel(\"Status\")\n",
    "plt.ylabel(\"Number of Passengers\")\n",
    "plt.title(\"Passengers Survived vs Passengers Dead\")\n",
    "plt.ylim(0,100000)\n",
    "plt.xticks([0,1], ['Dead', 'Survived'])\n",
    "ax.bar_label(ax.containers[0])\n",
    "plt.show()"
   ]
  },
  {
   "cell_type": "markdown",
   "id": "12d9c60e",
   "metadata": {},
   "source": [
    "More than 50% of passengers died."
   ]
  },
  {
   "cell_type": "code",
   "execution_count": 132,
   "id": "b206178d",
   "metadata": {},
   "outputs": [
    {
     "data": {
      "image/png": "[encoded data removed]",
      "text/plain": [
       "<Figure size 648x360 with 1 Axes>"
      ]
     },
     "metadata": {
      "needs_background": "light"
     },
     "output_type": "display_data"
    }
   ],
   "source": [
    "#Survival by sex\n",
    "plt.figure(figsize=(9,5))\n",
    "colors = [\"#265484\",\"#007ba6\",\"#00a2af\",\"#00c59f\",\"#8fe383\",\"#f9f871\"]\n",
    "sns.set_palette(sns.color_palette(colors))\n",
    "ax = sns.countplot(x=\"Survived\", hue=\"Sex\", data=train)\n",
    "plt.xlabel(\"Status\")\n",
    "plt.ylabel(\"Number of Passengers\")\n",
    "plt.title(\"Passengers Survived vs Passengers Dead (by sex)\")\n",
    "plt.ylim(0,100000)\n",
    "plt.xticks([0,1], ['Dead', 'Survived'])\n",
    "ax.bar_label(ax.containers[0])\n",
    "ax.bar_label(ax.containers[1])\n",
    "plt.show()"
   ]
  },
  {
   "cell_type": "markdown",
   "id": "ee29f973",
   "metadata": {},
   "source": [
    "Although initially there were more male passengers aboard the titanic, more women survived."
   ]
  },
  {
   "cell_type": "code",
   "execution_count": 82,
   "id": "69bad232",
   "metadata": {},
   "outputs": [
    {
     "data": {
      "image/png": "[encoded data removed]",
      "text/plain": [
       "<Figure size 648x360 with 1 Axes>"
      ]
     },
     "metadata": {
      "needs_background": "light"
     },
     "output_type": "display_data"
    }
   ],
   "source": [
    "#Survival rate by class\n",
    "df_1 = train.groupby(\"Pclass\")[\"Survived\"].apply(lambda x: x.sum()/len(x)*100)\n",
    "plt.figure(figsize = (9,5))\n",
    "ax = sns.barplot(x = list(df_1.index), y = df_1.values,color = \"#265484\")\n",
    "plt.xlabel(\"Class\")\n",
    "plt.ylabel(\"% Survived\")\n",
    "plt.title(\"Survival rate by passenger class\")\n",
    "ax.bar_label(ax.containers[0],fmt='%.2f%%')\n",
    "plt.show()"
   ]
  },
  {
   "cell_type": "markdown",
   "id": "4f11c6be",
   "metadata": {},
   "source": [
    "3rd class passengers had the least survival rate - 24.73%, whereas almost 60% and 50% of 1st and 2and class passengers survived."
   ]
  },
  {
   "cell_type": "code",
   "execution_count": 81,
   "id": "235ba8f0",
   "metadata": {},
   "outputs": [
    {
     "data": {
      "image/png": "[encoded data removed]",
      "text/plain": [
       "<Figure size 648x360 with 1 Axes>"
      ]
     },
     "metadata": {
      "needs_background": "light"
     },
     "output_type": "display_data"
    }
   ],
   "source": [
    "#Survival rate by sex\n",
    "df_2 = train.groupby(\"Sex\")[\"Survived\"].apply(lambda x: x.sum()/len(x)*100)\n",
    "plt.figure(figsize = (9,5))\n",
    "ax = sns.barplot(x = list(df_2.index), y = df_2.values,color = \"#265484\")\n",
    "plt.xlabel(\"Class\")\n",
    "plt.ylabel(\"% Survived\")\n",
    "plt.title(\"Survival rate by passenger sex\")\n",
    "ax.bar_label(ax.containers[0],fmt='%.2f%%')\n",
    "plt.show()"
   ]
  },
  {
   "cell_type": "markdown",
   "id": "36085f9d",
   "metadata": {},
   "source": [
    "The survival rate for females is more than 3x times higher than for males."
   ]
  },
  {
   "cell_type": "code",
   "execution_count": 89,
   "id": "f26e8bed",
   "metadata": {},
   "outputs": [
    {
     "data": {
      "image/png": "[encoded data removed]",
      "text/plain": [
       "<Figure size 648x360 with 1 Axes>"
      ]
     },
     "metadata": {
      "needs_background": "light"
     },
     "output_type": "display_data"
    }
   ],
   "source": [
    "#Survival rate by number of sposes / siblings\n",
    "df_3 = train.groupby(\"SibSp\")[\"Survived\"].apply(lambda x: x.sum()/len(x)*100)\n",
    "plt.figure(figsize=(9,5))\n",
    "colors = [\"#265484\",\"#007ba6\",\"#00a2af\",\"#00c59f\",\"#8fe383\",\"#f9f871\",\"#e17eb5\"]\n",
    "sns.set_palette(sns.color_palette(colors))\n",
    "ax = sns.barplot(x = list(df_3.index), y = df_3.values, palette = colors)\n",
    "plt.xlabel(\"Number of siblings / spouses aboard the Titanic\")\n",
    "plt.ylabel(\"% Survived\")\n",
    "plt.title(\"Survival rate by number of siblings / spouses\")\n",
    "ax.bar_label(ax.containers[0],fmt='%.2f%%')\n",
    "plt.show()"
   ]
  },
  {
   "cell_type": "markdown",
   "id": "ff1e9e3a",
   "metadata": {},
   "source": [
    "~43% of passenegers with under 2 siblings / sposes survived. The highest survival rate had passengers with 2 siblings / sposes aboard the Titanic."
   ]
  },
  {
   "cell_type": "code",
   "execution_count": 90,
   "id": "d47f97e3",
   "metadata": {},
   "outputs": [
    {
     "data": {
      "image/png": "[encoded data removed]",
      "text/plain": [
       "<Figure size 648x360 with 1 Axes>"
      ]
     },
     "metadata": {
      "needs_background": "light"
     },
     "output_type": "display_data"
    }
   ],
   "source": [
    "# Survival rate by parents / children \n",
    "df_4 = train.groupby(\"Parch\")[\"Survived\"].apply(lambda x: x.sum()/len(x)*100)\n",
    "plt.figure(figsize=(9,5))\n",
    "colors = [\"#265484\",\"#007ba6\",\"#00a2af\",\"#00c59f\",\"#8fe383\",\"#f9f871\",\"#996eaf\",\"#e17eb5\"]\n",
    "sns.set_palette(sns.color_palette(colors))\n",
    "ax = sns.barplot(x = list(df_4.index), y = df_4.values, palette = colors)\n",
    "plt.xlabel(\"Number of parents / children aboard the Titanic\")\n",
    "plt.ylabel(\"% Survived\")\n",
    "plt.title(\"Survival rate by number of parents / children aboard the Titanic\")\n",
    "ax.bar_label(ax.containers[0],fmt='%.2f%%')\n",
    "plt.show()"
   ]
  },
  {
   "cell_type": "code",
   "execution_count": 119,
   "id": "a1712853",
   "metadata": {},
   "outputs": [
    {
     "data": {
      "image/png": "[encoded data removed]",
      "text/plain": [
       "<Figure size 648x360 with 1 Axes>"
      ]
     },
     "metadata": {
      "needs_background": "light"
     },
     "output_type": "display_data"
    }
   ],
   "source": [
    "train[\"Family\"] = train[\"SibSp\"] + train[\"Parch\"] + 1\n",
    "df_5 = train.groupby(\"Family\")[\"Survived\"].apply(lambda x: x.sum()/len(x)*100)\n",
    "plt.figure(figsize=(9,5))\n",
    "ax = sns.barplot(x = list(df_5.index), y = df_5.values, palette = \"BuPu\")\n",
    "plt.xlabel(\"Family members aboard the Titanic\")\n",
    "plt.ylabel(\"% Survived\")\n",
    "plt.title(\"Survival rate by family size\")\n",
    "ax.bar_label(ax.containers[0],fmt='%.2f%%')\n",
    "plt.show()"
   ]
  },
  {
   "cell_type": "markdown",
   "id": "c99e48d3",
   "metadata": {},
   "source": [
    "Survival rate for small families of 2 was the highest - 51.61%."
   ]
  },
  {
   "cell_type": "code",
   "execution_count": null,
   "id": "0bc956d8",
   "metadata": {},
   "outputs": [],
   "source": []
  },
  {
   "cell_type": "code",
   "execution_count": 80,
   "id": "ae82e275",
   "metadata": {},
   "outputs": [
    {
     "data": {
      "image/png": "[encoded data removed]",
      "text/plain": [
       "<Figure size 648x360 with 1 Axes>"
      ]
     },
     "metadata": {
      "needs_background": "light"
     },
     "output_type": "display_data"
    },
    {
     "data": {
      "image/png": "[encoded data removed]",
      "text/plain": [
       "<Figure size 432x288 with 1 Axes>"
      ]
     },
     "metadata": {
      "needs_background": "light"
     },
     "output_type": "display_data"
    }
   ],
   "source": [
    "plt.figure(figsize=(9,5))\n",
    "sns.histplot(data = train['Fare'],bins=25, kde=True, color=\"#265484\",element=\"step\", alpha=0.2)\n",
    "plt.title('Distribution of Fare')\n",
    "plt.show()\n",
    "sns.boxplot(data=train, y=train['Fare'], x=train['Pclass'])\n",
    "plt.show()"
   ]
  },
  {
   "cell_type": "code",
   "execution_count": null,
   "id": "8cf189fc",
   "metadata": {},
   "outputs": [],
   "source": []
  },
  {
   "cell_type": "code",
   "execution_count": null,
   "id": "01e6a9ff",
   "metadata": {},
   "outputs": [],
   "source": []
  },
  {
   "cell_type": "code",
   "execution_count": null,
   "id": "dca0e7d2",
   "metadata": {},
   "outputs": [],
   "source": []
  },
  {
   "cell_type": "code",
   "execution_count": null,
   "id": "96097c24",
   "metadata": {},
   "outputs": [],
   "source": []
  },
  {
   "cell_type": "code",
   "execution_count": null,
   "id": "946ce58e",
   "metadata": {},
   "outputs": [],
   "source": []
  },
  {
   "cell_type": "code",
   "execution_count": null,
   "id": "49ce5ada",
   "metadata": {},
   "outputs": [],
   "source": []
  },
  {
   "cell_type": "code",
   "execution_count": null,
   "id": "49295ec8",
   "metadata": {},
   "outputs": [],
   "source": []
  },
  {
   "cell_type": "markdown",
   "id": "034945c8",
   "metadata": {},
   "source": [
    "## Summary"
   ]
  },
  {
   "cell_type": "code",
   "execution_count": null,
   "id": "72e3fb13",
   "metadata": {},
   "outputs": [],
   "source": []
  }
 ],
 "metadata": {
  "kernelspec": {
   "display_name": "Python 3 (ipykernel)",
   "language": "python",
   "name": "python3"
  },
  "language_info": {
   "codemirror_mode": {
    "name": "ipython",
    "version": 3
   },
   "file_extension": ".py",
   "mimetype": "text/x-python",
   "name": "python",
   "nbconvert_exporter": "python",
   "pygments_lexer": "ipython3",
   "version": "3.9.7"
  },
  "toc": {
   "base_numbering": 1,
   "nav_menu": {},
   "number_sections": true,
   "sideBar": true,
   "skip_h1_title": false,
   "title_cell": "Table of Contents",
   "title_sidebar": "Contents",
   "toc_cell": false,
   "toc_position": {},
   "toc_section_display": true,
   "toc_window_display": false
  }
 },
 "nbformat": 4,
 "nbformat_minor": 5
}
